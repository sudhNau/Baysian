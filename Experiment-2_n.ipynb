{
 "cells": [
  {
   "cell_type": "code",
   "execution_count": 1,
   "metadata": {
    "collapsed": false
   },
   "outputs": [
    {
     "name": "stderr",
     "output_type": "stream",
     "text": [
      " /home/sudhanshu/miniconda2/lib/python2.7/site-packages/sklearn/cross_validation.py:44: DeprecationWarning:This module was deprecated in version 0.18 in favor of the model_selection module into which all the refactored classes and functions are moved. Also note that the interface of the new CV iterators are different from that of this module. This module will be removed in 0.20.\n"
     ]
    }
   ],
   "source": [
    "import LCMGP\n",
    "from sklearn.cross_validation import train_test_split\n",
    "from sklearn import metrics\n",
    "import GPy\n",
    "import numpy as np\n",
    "from matplotlib import pyplot as plt"
   ]
  },
  {
   "cell_type": "code",
   "execution_count": 8,
   "metadata": {
    "collapsed": false
   },
   "outputs": [],
   "source": [
    "import LCMGP\n",
    "from sklearn import metrics\n",
    "import GPy\n",
    "import numpy as np\n",
    "from matplotlib import pyplot as plt"
   ]
  },
  {
   "cell_type": "markdown",
   "metadata": {},
   "source": [
    "## Steps:\n",
    "IN this experiment we test the effect of reducing inducing points on classification accuracy and other scores\n",
    "- Data used is from synthetic control data set \n",
    "- It has both upward slope as well as increasing trend, however here we are testing only on it's capability to learn increasing trend\n",
    "- Since clustering can be spurious we try to control for that by running each experiment 25 times and then report their averages and variances "
   ]
  },
  {
   "cell_type": "code",
   "execution_count": 1,
   "metadata": {
    "collapsed": false
   },
   "outputs": [],
   "source": [
    "import pickle\n",
    "f = open(\"Y_train.pickle\",\"rb\")\n",
    "YBar = (pickle.load(f))\n",
    "f.close()\n",
    "f = open(\"L_train.pickle\",\"rb\")\n",
    "L = (pickle.load(f))\n",
    "f.close()\n",
    "f = open(\"Y_test.pickle\",\"rb\")\n",
    "Y_test = (pickle.load(f))\n",
    "f.close()\n",
    "f = open(\"L_test.pickle\",\"rb\")\n",
    "L_test = (pickle.load(f))\n",
    "f.close()"
   ]
  },
  {
   "cell_type": "markdown",
   "metadata": {},
   "source": [
    "This is from synthetic control data set, Even though it has upward slope as well as increasing trend we firsttry to learn only increasing trend\n",
    "\n",
    "        "
   ]
  },
  {
   "cell_type": "markdown",
   "metadata": {},
   "source": [
    "### testing Infra:\n",
    "\n",
    "## Testing the effect of inducing points on classification accuracy"
   ]
  },
  {
   "cell_type": "markdown",
   "metadata": {
    "collapsed": true
   },
   "source": [
    "### 1. IN this data, C=1; P=3"
   ]
  },
  {
   "cell_type": "code",
   "execution_count": 9,
   "metadata": {
    "collapsed": false
   },
   "outputs": [
    {
     "name": "stdout",
     "output_type": "stream",
     "text": [
      "\n",
      "---\n",
      " ind: 0.8\n",
      "0 Model initialized with  0.8 induction ratio\n",
      "150 updates\n",
      "1 Model initialized with  0.8 induction ratio\n",
      "150 updates\n",
      "2 Model initialized with  0.8 induction ratio\n",
      "150 updates\n",
      "3 Model initialized with  0.8 induction ratio\n",
      "150 updates\n",
      "4 Model initialized with  0.8 induction ratio\n",
      "150 updates\n",
      "5 Model initialized with  0.8 induction ratio\n",
      "150 updates\n",
      "6 Model initialized with  0.8 induction ratio\n",
      "150 updates\n",
      "7 Model initialized with  0.8 induction ratio\n",
      "150 updates\n",
      "8 Model initialized with  0.8 induction ratio\n",
      "150 updates\n",
      "9 Model initialized with  0.8 induction ratio\n",
      "150 updates\n",
      "10 Model initialized with  0.8 induction ratio\n",
      "150 updates\n",
      "11 Model initialized with  0.8 induction ratio\n",
      "150 updates\n",
      "12 Model initialized with  0.8 induction ratio\n",
      "150 updates\n",
      "13 Model initialized with  0.8 induction ratio\n",
      "150 updates\n",
      "14 Model initialized with  0.8 induction ratio\n",
      "150 updates\n",
      "15 Model initialized with  0.8 induction ratio\n",
      "150 updates\n",
      "16 Model initialized with  0.8 induction ratio\n",
      "150 updates\n",
      "17 Model initialized with  0.8 induction ratio\n",
      "150 updates\n",
      "18 Model initialized with  0.8 induction ratio\n",
      "150 updates\n",
      "19 Model initialized with  0.8 induction ratio\n",
      "150 updates\n",
      "20 Model initialized with  0.8 induction ratio\n",
      "150 updates\n",
      "21 Model initialized with  0.8 induction ratio\n",
      "150 updates\n",
      "22 Model initialized with  0.8 induction ratio\n",
      "150 updates\n",
      "23 Model initialized with  0.8 induction ratio\n",
      "150 updates\n",
      "24 Model initialized with  0.8 induction ratio\n",
      "150 updates\n",
      "\n",
      "---\n",
      " ind: 0.7\n",
      "0 Model initialized with  0.7 induction ratio\n",
      "150 updates\n",
      "1 Model initialized with  0.7 induction ratio\n",
      "150 updates\n",
      "2 Model initialized with  0.7 induction ratio\n",
      "150 updates\n",
      "3 Model initialized with  0.7 induction ratio\n",
      "150 updates\n",
      "4 Model initialized with  0.7 induction ratio\n",
      "150 updates\n",
      "5 Model initialized with  0.7 induction ratio\n",
      "150 updates\n",
      "6 Model initialized with  0.7 induction ratio\n",
      "150 updates\n",
      "7 Model initialized with  0.7 induction ratio\n",
      "150 updates\n",
      "8 Model initialized with  0.7 induction ratio\n",
      "150 updates\n",
      "9 Model initialized with  0.7 induction ratio\n",
      "150 updates\n",
      "10 Model initialized with  0.7 induction ratio\n",
      "150 updates\n",
      "11 Model initialized with  0.7 induction ratio\n",
      "150 updates\n",
      "12 Model initialized with  0.7 induction ratio\n",
      "150 updates\n",
      "13 Model initialized with  0.7 induction ratio\n",
      "150 updates\n",
      "14 Model initialized with  0.7 induction ratio\n",
      "150 updates\n",
      "15 Model initialized with  0.7 induction ratio\n",
      "150 updates\n",
      "16 Model initialized with  0.7 induction ratio\n",
      "150 updates\n",
      "17 Model initialized with  0.7 induction ratio\n",
      "150 updates\n",
      "18 Model initialized with  0.7 induction ratio\n",
      "150 updates\n",
      "19 Model initialized with  0.7 induction ratio\n",
      "150 updates\n",
      "20 Model initialized with  0.7 induction ratio\n",
      "150 updates\n",
      "21 Model initialized with  0.7 induction ratio\n",
      "150 updates\n",
      "22 Model initialized with  0.7 induction ratio\n",
      "150 updates\n",
      "23 Model initialized with  0.7 induction ratio\n",
      "150 updates\n",
      "24 Model initialized with  0.7 induction ratio\n",
      "150 updates\n",
      "\n",
      "---\n",
      " ind: 0.5\n",
      "0 Model initialized with  0.5 induction ratio\n",
      "150 updates\n",
      "1 Model initialized with  0.5 induction ratio\n",
      "150 updates\n",
      "2 Model initialized with  0.5 induction ratio\n",
      "150 updates\n",
      "3 Model initialized with  0.5 induction ratio\n",
      "150 updates\n",
      "4 Model initialized with  0.5 induction ratio\n",
      "150 updates\n",
      "5 Model initialized with  0.5 induction ratio\n",
      "150 updates\n",
      "6 Model initialized with  0.5 induction ratio\n",
      "150 updates\n",
      "7 Model initialized with  0.5 induction ratio\n",
      "150 updates\n",
      "8 Model initialized with  0.5 induction ratio\n",
      "150 updates\n",
      "9 Model initialized with  0.5 induction ratio\n",
      "150 updates\n",
      "10 Model initialized with  0.5 induction ratio\n",
      "150 updates\n",
      "11 Model initialized with  0.5 induction ratio\n",
      "150 updates\n",
      "12 Model initialized with  0.5 induction ratio\n",
      "150 updates\n",
      "13 Model initialized with  0.5 induction ratio\n",
      "150 updates\n",
      "14 Model initialized with  0.5 induction ratio\n",
      "150 updates\n",
      "15 Model initialized with  0.5 induction ratio\n",
      "150 updates\n",
      "16 Model initialized with  0.5 induction ratio\n",
      "150 updates\n",
      "17 Model initialized with  0.5 induction ratio\n",
      "150 updates\n",
      "18 Model initialized with  0.5 induction ratio\n",
      "150 updates\n",
      "19 Model initialized with  0.5 induction ratio\n",
      "150 updates\n",
      "20 Model initialized with  0.5 induction ratio\n",
      "150 updates\n",
      "21 Model initialized with  0.5 induction ratio\n",
      "150 updates\n",
      "22 Model initialized with  0.5 induction ratio\n",
      "150 updates\n",
      "23 Model initialized with  0.5 induction ratio\n",
      "150 updates\n",
      "24 Model initialized with  0.5 induction ratio\n",
      "150 updates\n",
      "\n",
      "---\n",
      " ind: 0.3\n",
      "0 Model initialized with  0.3 induction ratio\n",
      "150 updates\n",
      "1 Model initialized with  0.3 induction ratio\n",
      "150 updates\n",
      "2 Model initialized with  0.3 induction ratio\n",
      "150 updates\n",
      "3 Model initialized with  0.3 induction ratio\n",
      "150 updates\n",
      "4 Model initialized with  0.3 induction ratio\n",
      "150 updates\n",
      "5 Model initialized with  0.3 induction ratio\n",
      "150 updates\n",
      "6 Model initialized with  0.3 induction ratio\n",
      "150 updates\n",
      "7 Model initialized with  0.3 induction ratio\n",
      "150 updates\n",
      "8 Model initialized with  0.3 induction ratio\n",
      "150 updates\n",
      "9 Model initialized with  0.3 induction ratio\n",
      "150 updates\n",
      "10 Model initialized with  0.3 induction ratio\n",
      "150 updates\n",
      "11 Model initialized with  0.3 induction ratio\n",
      "150 updates\n",
      "12 Model initialized with  0.3 induction ratio\n",
      "150 updates\n",
      "13 Model initialized with  0.3 induction ratio\n",
      "150 updates\n",
      "14 Model initialized with  0.3 induction ratio\n",
      "150 updates\n",
      "15 Model initialized with  0.3 induction ratio\n",
      "150 updates\n",
      "16 Model initialized with  0.3 induction ratio\n",
      "150 updates\n",
      "17 Model initialized with  0.3 induction ratio\n",
      "150 updates\n",
      "18 Model initialized with  0.3 induction ratio\n",
      "150 updates\n",
      "19 Model initialized with  0.3 induction ratio\n",
      "150 updates\n",
      "20 Model initialized with  0.3 induction ratio\n",
      "150 updates\n",
      "21 Model initialized with  0.3 induction ratio\n",
      "150 updates\n",
      "22 Model initialized with  0.3 induction ratio\n",
      "150 updates\n",
      "23 Model initialized with  0.3 induction ratio\n",
      "150 updates\n",
      "24 Model initialized with  0.3 induction ratio\n",
      "150 updates\n",
      "\n",
      "---\n",
      " ind: 0.2\n",
      "0 Model initialized with  0.2 induction ratio\n",
      "150 updates\n",
      "1 Model initialized with  0.2 induction ratio\n",
      "150 updates\n",
      "2 Model initialized with  0.2 induction ratio\n",
      "150 updates\n",
      "3 Model initialized with  0.2 induction ratio\n",
      "150 updates\n",
      "4 Model initialized with  0.2 induction ratio\n",
      "150 updates\n",
      "5 Model initialized with  0.2 induction ratio\n",
      "150 updates\n",
      "6 Model initialized with  0.2 induction ratio\n",
      "150 updates\n",
      "7 Model initialized with  0.2 induction ratio\n",
      "150 updates\n",
      "8 Model initialized with  0.2 induction ratio\n",
      "150 updates\n",
      "9 Model initialized with  0.2 induction ratio\n",
      "150 updates\n",
      "10 Model initialized with  0.2 induction ratio\n",
      "150 updates\n",
      "11 Model initialized with  0.2 induction ratio\n",
      "150 updates\n",
      "12 Model initialized with  0.2 induction ratio\n",
      "150 updates\n",
      "13 Model initialized with  0.2 induction ratio\n",
      "150 updates\n",
      "14 Model initialized with  0.2 induction ratio\n",
      "150 updates\n",
      "15 Model initialized with  0.2 induction ratio\n",
      "150 updates\n",
      "16 Model initialized with  0.2 induction ratio\n",
      "150 updates\n",
      "17 Model initialized with  0.2 induction ratio\n",
      "150 updates\n",
      "18 Model initialized with  0.2 induction ratio\n",
      "150 updates\n",
      "19 Model initialized with  0.2 induction ratio\n",
      "150 updates\n",
      "20 Model initialized with  0.2 induction ratio\n",
      "150 updates\n",
      "21 Model initialized with  0.2 induction ratio\n",
      "150 updates\n",
      "22 Model initialized with  0.2 induction ratio\n",
      "150 updates\n",
      "23 Model initialized with  0.2 induction ratio\n",
      "150 updates\n",
      "24 Model initialized with  0.2 induction ratio\n",
      "150 updates\n"
     ]
    }
   ],
   "source": [
    "inds  = reversed([0.2,0.3,0.5,0.7,0.8])\n",
    "accuracies = {}\n",
    "f1Scores = {}\n",
    "f1ScoresV = {}\n",
    "accuraciesV = {}\n",
    "TRreconstruction ={}\n",
    "TTreconstruction ={}\n",
    "TRreconstructionV ={}\n",
    "TTreconstructionV ={}\n",
    "faultyModel = {}\n",
    "#Generae Data\n",
    "#Generate Latent\n",
    "for ind in inds:\n",
    "    f1=[]\n",
    "    accu=[]\n",
    "    recTr = []\n",
    "    recTt = []\n",
    "    print \"\\n---\\n ind:\",ind\n",
    "    for times in range(25):\n",
    "        print times,\n",
    "        # fit the model\n",
    "        lcgm = LCMGP.LCMGP()\n",
    "        lcgm.fit(Y=YBar,L=L,N=60,induction=ind,iterations=150)\n",
    "        # calcualte reconstruction error for training\n",
    "        recTr.append(reconstructionError(YBar=YBar,phiHatExpBar=lcgm.phiHatExpBar,uExpBar=lcgm.uExpBar))\n",
    "        # predict for test\n",
    "        predictions,Expresults, ux = lcgm.predict(Y_test)\n",
    "        # calcualte reconstruction error for training\n",
    "        recTt.append(reconstructionError(YBar=Y_test,phiHatExpBar=lcgm.phiHatExpBar,uExpBar=ux))\n",
    "        #print \"Result:\",np.unique(predictions,return_counts=True),np.unique(L_test,return_counts=True)\n",
    "        f1s = metrics.f1_score(y_pred=predictions,y_true=L_test)\n",
    "        f1.append(f1s)\n",
    "        if f1s < 0.30:\n",
    "            faultyModel[ind] = lcgm\n",
    "        accu.append(metrics.accuracy_score(y_pred=predictions,y_true=L_test))\n",
    "        \n",
    "    #print f1,\"\\n\",accu,f1,recTr\n",
    "    f1Scores[ind] = np.mean(f1)\n",
    "    accuracies[ind] = np.mean(accu)\n",
    "    f1ScoresV[ind] = np.std(f1)\n",
    "    accuraciesV[ind] = np.std(accu)\n",
    "    TRreconstruction[ind] = np.mean(recTr)\n",
    "    TTreconstruction[ind] =np.mean(recTt)\n",
    "    TRreconstructionV[ind] = np.std(recTr)\n",
    "    TTreconstructionV[ind] =np.std(recTt)\n",
    "#plt.plot(induction,results)"
   ]
  },
  {
   "cell_type": "code",
   "execution_count": 6,
   "metadata": {
    "collapsed": false
   },
   "outputs": [],
   "source": [
    "%matplotlib inline\n",
    "import numpy as np\n",
    "def reconstructionError(YBar,uExpBar,phiHatExpBar):\n",
    "    totalError = 0\n",
    "    for s in range(YBar.shape[0]):\n",
    "        totalError += np.sum(np.abs(YBar[s] - uExpBar[s]*phiHatExpBar.T))\n",
    "    return totalError/YBar.shape[0]"
   ]
  },
  {
   "cell_type": "code",
   "execution_count": 66,
   "metadata": {
    "collapsed": false
   },
   "outputs": [
    {
     "data": {
      "text/plain": [
       "(0.15, 0.85)"
      ]
     },
     "execution_count": 66,
     "metadata": {},
     "output_type": "execute_result"
    },
    {
     "data": {
      "image/png": "[encoded data removed]",
      "text/plain": [
       "<matplotlib.figure.Figure at 0x7fb0633168d0>"
      ]
     },
     "metadata": {},
     "output_type": "display_data"
    }
   ],
   "source": [
    "d=[]\n",
    "for k,v in f1Scores.items():\n",
    "    d.append((k,np.round(v,2),np.round(f1ScoresV[k],3)))\n",
    "d = sorted(d, key=lambda x: x[0])  \n",
    "d = pd.DataFrame(d,columns = ['ind','m','v'])\n",
    "plt.errorbar(d['ind'],d['m'],d['v'])\n",
    "plt.xlim(0.15,0.85)"
   ]
  },
  {
   "cell_type": "code",
   "execution_count": 67,
   "metadata": {
    "collapsed": false
   },
   "outputs": [
    {
     "data": {
      "text/plain": [
       "(0.15, 0.85)"
      ]
     },
     "execution_count": 67,
     "metadata": {},
     "output_type": "execute_result"
    },
    {
     "data": {
      "image/png": "[encoded data removed]",
      "text/plain": [
       "<matplotlib.figure.Figure at 0x7fb06317a290>"
      ]
     },
     "metadata": {},
     "output_type": "display_data"
    }
   ],
   "source": [
    "d=[]\n",
    "for k,v in accuracies.items():\n",
    "    d.append((k,np.round(v,2),np.round(accuraciesV[k],3)))\n",
    "d = sorted(d, key=lambda x: x[0])  \n",
    "d = pd.DataFrame(d,columns = ['ind','m','v'])\n",
    "plt.errorbar(d['ind'],d['m'],d['v'])\n",
    "plt.xlim(0.15,0.85)"
   ]
  },
  {
   "cell_type": "code",
   "execution_count": 68,
   "metadata": {
    "collapsed": false
   },
   "outputs": [
    {
     "data": {
      "text/plain": [
       "<matplotlib.collections.PathCollection at 0x7fb06304c850>"
      ]
     },
     "execution_count": 68,
     "metadata": {},
     "output_type": "execute_result"
    },
    {
     "data": {
      "image/png": "[encoded data removed]",
      "text/plain": [
       "<matplotlib.figure.Figure at 0x7fb06318f590>"
      ]
     },
     "metadata": {},
     "output_type": "display_data"
    }
   ],
   "source": [
    "plt.scatter(TTreconstruction.keys(),TTreconstruction.values(),color='red',alpha=0.4)\n",
    "plt.scatter(TRreconstruction.keys(),TRreconstruction.values(),color='blue',alpha=0.4)"
   ]
  },
  {
   "cell_type": "markdown",
   "metadata": {},
   "source": [
    "Interesting thing is that even 50% of samples are enough to classify things properly."
   ]
  }
 ],
 "metadata": {
  "anaconda-cloud": {},
  "kernelspec": {
   "display_name": "Python 2",
   "language": "python",
   "name": "python2"
  },
  "language_info": {
   "codemirror_mode": {
    "name": "ipython",
    "version": 2
   },
   "file_extension": ".py",
   "mimetype": "text/x-python",
   "name": "python",
   "nbconvert_exporter": "python",
   "pygments_lexer": "ipython2",
   "version": "2.7.12"
  }
 },
 "nbformat": 4,
 "nbformat_minor": 0
}
