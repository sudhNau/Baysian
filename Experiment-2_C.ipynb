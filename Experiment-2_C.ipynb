{
 "cells": [
  {
   "cell_type": "code",
   "execution_count": 12,
   "metadata": {
    "collapsed": false
   },
   "outputs": [
    {
     "name": "stdout",
     "output_type": "stream",
     "text": [
      "\n"
     ]
    }
   ],
   "source": [
    "import LOM\n",
    "from sklearn.cross_validation import train_test_split\n",
    "from sklearn import metrics"
   ]
  },
  {
   "cell_type": "markdown",
   "metadata": {},
   "source": [
    "## Steps:\n",
    "Generate three types of process through kernels:\n",
    "- Gaussian -1\n",
    "- Increasing/Decreasing linear trend\n",
    "- Gaussian -2\n",
    "- Generate latent process and a random phi add noise\n",
    "- Label processes as coming from increasing trend-G1 as 1’s and decreasing trend-G1/G2 as 0’s\n",
    "- Increasing C, check classification accuracy \n",
    "- Compare with Logistic regression and LDA: Stretch goal\n"
   ]
  },
  {
   "cell_type": "code",
   "execution_count": 2,
   "metadata": {
    "collapsed": false
   },
   "outputs": [],
   "source": [
    "## Linear increasing kernel\n",
    "import GPy\n",
    "import numpy as np\n",
    "from matplotlib import pyplot as plt\n",
    "%matplotlib inline\n",
    "kenrel = GPy.kern.Linear(1,variances=3)  * GPy.kern.Brownian(1,variance=2) \n",
    "kenrel = GPy.kern.Linear(1,variances=3) * GPy.kern.Brownian(1,variance=3) + GPy.kern.Matern52(1,variance=2,lengthscale=3) \n",
    "Matern1 = GPy.kern.PeriodicMatern32(1,lengthscale=3,variance=2)\n",
    "Cosine1 = GPy.kern.Cosine(1,lengthscale=3,variance=2)\n",
    "gaussian = GPy.kern.ExpQuad(1,lengthscale=3,variance=2)"
   ]
  },
  {
   "cell_type": "code",
   "execution_count": 3,
   "metadata": {
    "collapsed": true
   },
   "outputs": [],
   "source": [
    "def scale(d):\n",
    "    return (d - d.min())/(d.max() - d.min())\n",
    "\n",
    "def generatelatent(N,noiselevel=0.5):\n",
    "    x = np.linspace(0,N-1,N)\n",
    "    u1 = np.random.multivariate_normal(mean=np.zeros(N).flatten(),cov=kenrel.K(x.reshape(N,1))) + noiselevel* np.random.normal(0,1,N)\n",
    "    u2 = np.random.multivariate_normal(mean=np.zeros(N).flatten(),cov=gaussian.K(x.reshape(N,1))) + noiselevel* np.random.normal(0,1,N)\n",
    "    g1 = np.random.multivariate_normal(mean=np.ones(N).flatten(),cov=Matern1.K(x.reshape(N,1))) + noiselevel* np.random.normal(0,1,N)\n",
    "    g2 = np.random.multivariate_normal(mean=np.ones(N).flatten(),cov=Cosine1.K(x.reshape(N,1))) + noiselevel*np.random.normal(0,1,N)\n",
    "    return scale(u1),scale(u2),scale(g1),scale(g2)\n"
   ]
  },
  {
   "cell_type": "markdown",
   "metadata": {},
   "source": [
    "Now we know our latent processes: g1,g2,increasingTrend,decreasingTrend\n",
    "We sample phi and then combine these to generate data such that:\n",
    "    - with probability 0.5:\n",
    "        get g1 and increasing trend set Label to 1\n",
    "     - With probability 0.5:\n",
    "         get g1 or g2 with equal probability combine with decreasing trend and set label to -1\n",
    "        "
   ]
  },
  {
   "cell_type": "code",
   "execution_count": 44,
   "metadata": {
    "collapsed": false
   },
   "outputs": [],
   "source": [
    "def generateData(W,phi,latents,S=100,C=3,P=2,N=100):\n",
    "    #phi = np.random.normal(loc=0,scale=1,size=(C,P))\n",
    "    phiBar = np.matrix(np.kron(phi,np.eye(N)))\n",
    "    B = np.ones(S)\n",
    "    #W = np.random.rand(P*N)\n",
    "    uBar = np.matrix(np.ones((S,N*P)))\n",
    "    l = np.zeros(S)\n",
    "    L = np.zeros(S)\n",
    "    for s in range(S):\n",
    "        if np.random.rand() < 0.4:\n",
    "            L[s] = 1\n",
    "            us = np.hstack([a for i,a in enumerate(latents) if i!=1 ])\n",
    "        else:\n",
    "            L[s] = -1\n",
    "            us = np.hstack([a for i,a in enumerate(latents) if i!=1 ])\n",
    "        uBar[s,:] = us\n",
    "        l[s] = np.dot(uBar[s,:] ,W) + B[s]\n",
    "        #L[s] = guessLabel(l[s])\n",
    "    print S,C,P,N\n",
    "    print \"\\n--\",uBar.shape,phiBar.shape\n",
    "    YBar = uBar * phiBar.T + np.random.normal(0,1)\n",
    "    print YBar.shape\n",
    "    return YBar,L"
   ]
  },
  {
   "cell_type": "markdown",
   "metadata": {},
   "source": [
    "### testing Infra:\n",
    "\n",
    "## Testing the effect of C"
   ]
  },
  {
   "cell_type": "code",
   "execution_count": 25,
   "metadata": {
    "collapsed": false
   },
   "outputs": [
    {
     "name": "stdout",
     "output_type": "stream",
     "text": [
      "\n",
      "---\n",
      " C: 1\n",
      "Concatenated Latent Gaussian Processes:\n",
      "(500, 400) (400, 400) 0"
     ]
    },
    {
     "name": "stderr",
     "output_type": "stream",
     "text": [
      " /m/home/home8/81/nautiys1/unix/jupyter/venv/lib/python2.7/site-packages/ipykernel/__main__.py:8: RuntimeWarning:covariance is not positive-semidefinite.\n",
      " /m/home/home8/81/nautiys1/unix/jupyter/venv/lib/python2.7/site-packages/ipykernel/__main__.py:9: RuntimeWarning:covariance is not positive-semidefinite.\n"
     ]
    },
    {
     "name": "stdout",
     "output_type": "stream",
     "text": [
      " 20 40 60 80 100 120 140 160 180 Result: (array([-1.]), array([80])) (array([-1.,  1.]), array([56, 24]))\n",
      "Concatenated Latent Gaussian Processes:\n",
      "(500, 400) (400, 400) 0 20 40 60 80 100 120 140 160 180 Result: (array([-1.]), array([80])) (array([-1.,  1.]), array([41, 39]))\n",
      "Concatenated Latent Gaussian Processes:\n",
      "(500, 400) (400, 400) 0 20 40 60 80 100 120 140 160 180 Result: (array([-1.]), array([80])) (array([-1.,  1.]), array([53, 27]))\n",
      "Concatenated Latent Gaussian Processes:\n",
      "(500, 400) (400, 400) 0 20 40 60 80 100 120 140 160 180 Result: (array([-1.]), array([80])) (array([-1.,  1.]), array([41, 39]))\n",
      "Concatenated Latent Gaussian Processes:\n",
      "(500, 400) (400, 400) 0 20 40 60 80 100 120 140 160 180 Result: (array([-1.]), array([80])) (array([-1.,  1.]), array([40, 40]))\n",
      "[0.0, 0.0, 0.0, 0.0, 0.0] \n",
      "[0.69999999999999996, 0.51249999999999996, 0.66249999999999998, 0.51249999999999996, 0.5]\n",
      "\n",
      "---\n",
      " C: 2\n",
      "Concatenated Latent Gaussian Processes:\n",
      "(500, 400) (400, 400) 0 20 40 60 80 100 120 140 160 180 Result: (array([-1.]), array([80])) (array([-1.,  1.]), array([54, 26]))\n",
      "Concatenated Latent Gaussian Processes:\n",
      "(500, 400) (400, 400) 0 20 40 60 80 100 120 140 160 180 Result: (array([-1.]), array([80])) (array([-1.,  1.]), array([47, 33]))\n",
      "Concatenated Latent Gaussian Processes:\n",
      "(500, 400) (400, 400) 0 20 40 60 80 100 120 140 160 180 Result: (array([-1.]), array([80])) (array([-1.,  1.]), array([45, 35]))\n",
      "Concatenated Latent Gaussian Processes:\n",
      "(500, 400) (400, 400) 0 20 40 60 80 100 120 140 160 180 Result: (array([-1.]), array([80])) (array([-1.,  1.]), array([49, 31]))\n",
      "Concatenated Latent Gaussian Processes:\n",
      "(500, 400) (400, 400) 0 20 40 60 80 100 120 140 160 180 Result: (array([-1.]), array([80])) (array([-1.,  1.]), array([46, 34]))\n",
      "[0.0, 0.0, 0.0, 0.0, 0.0] \n",
      "[0.67500000000000004, 0.58750000000000002, 0.5625, 0.61250000000000004, 0.57499999999999996]\n",
      "\n",
      "---\n",
      " C: 3\n",
      "Concatenated Latent Gaussian Processes:\n",
      "(500, 400) (400, 400) 0 20 40 60 80 100 120 140 160 180 Result: (array([-1.]), array([80])) (array([-1.,  1.]), array([50, 30]))\n",
      "Concatenated Latent Gaussian Processes:\n",
      "(500, 400) (400, 400) 0 20 40 60 80 100 120 140 160 180 Result: (array([-1.]), array([80])) (array([-1.,  1.]), array([48, 32]))\n",
      "Concatenated Latent Gaussian Processes:\n",
      "(500, 400) (400, 400) 0 20 40 60 80 100 120 140 160 180 Result: (array([-1.]), array([80])) (array([-1.,  1.]), array([56, 24]))\n",
      "Concatenated Latent Gaussian Processes:\n",
      "(500, 400) (400, 400) 0 20 40 60 80 100 120 140 160 180 Result: (array([-1.]), array([80])) (array([-1.,  1.]), array([49, 31]))\n",
      "Concatenated Latent Gaussian Processes:\n",
      "(500, 400) (400, 400) 0 20 40 60 80 100 120 140 160 180 Result: (array([ 1.]), array([80])) (array([-1.,  1.]), array([46, 34]))\n",
      "[0.0, 0.0, 0.0, 0.0, 0.59649122807017541] \n",
      "[0.625, 0.59999999999999998, 0.69999999999999996, 0.61250000000000004, 0.42499999999999999]\n",
      "\n",
      "---\n",
      " C: 4\n",
      "Concatenated Latent Gaussian Processes:\n",
      "(500, 400) (400, 400) 0 20 40 60 80 100 120 140 160 180 Result: (array([-1.]), array([80])) (array([-1.,  1.]), array([47, 33]))\n",
      "Concatenated Latent Gaussian Processes:\n",
      "(500, 400) (400, 400) 0 20 40 60 80 100 120 140 160 180 Result: (array([-1.]), array([80])) (array([-1.,  1.]), array([48, 32]))\n",
      "Concatenated Latent Gaussian Processes:\n",
      "(500, 400) (400, 400) 0 20 40 60 80 100 120 140 160 180 Result: (array([-1.]), array([80])) (array([-1.,  1.]), array([48, 32]))\n",
      "Concatenated Latent Gaussian Processes:\n",
      "(500, 400) (400, 400) 0 20 40 60 80 100 120 140 160 180 Result: (array([-1.]), array([80])) (array([-1.,  1.]), array([49, 31]))\n",
      "Concatenated Latent Gaussian Processes:\n",
      "(500, 400) (400, 400) 0 20 40 60 80 100 120 140 160 180 Result: (array([-1.]), array([80])) (array([-1.,  1.]), array([40, 40]))\n",
      "[0.0, 0.0, 0.0, 0.0, 0.0] \n",
      "[0.58750000000000002, 0.59999999999999998, 0.59999999999999998, 0.61250000000000004, 0.5]\n",
      "\n",
      "---\n",
      " C: 5\n",
      "Concatenated Latent Gaussian Processes:\n",
      "(500, 400) (400, 400) 0 20 40 60 80 100 120 140 160 180 Result: (array([-1.]), array([80])) (array([-1.,  1.]), array([48, 32]))\n",
      "Concatenated Latent Gaussian Processes:\n",
      "(500, 400) (400, 400) 0 20 40 60 80 100 120 140 160 180 Result: (array([-1.]), array([80])) (array([-1.,  1.]), array([48, 32]))\n",
      "Concatenated Latent Gaussian Processes:\n",
      "(500, 400) (400, 400) 0 20 40 60 80 100 120 140 160 180 Result: (array([-1.]), array([80])) (array([-1.,  1.]), array([48, 32]))\n",
      "Concatenated Latent Gaussian Processes:\n",
      "(500, 400) (400, 400) 0 20 40 60 80 100 120 140 160 180 Result: (array([ 1.]), array([80])) (array([-1.,  1.]), array([43, 37]))\n",
      "Concatenated Latent Gaussian Processes:\n",
      "(500, 400) (400, 400) 0 20 40 60 80 100 120 140 160 180 Result: (array([-1.]), array([80])) (array([-1.,  1.]), array([48, 32]))\n",
      "[0.0, 0.0, 0.0, 0.63247863247863256, 0.0] \n",
      "[0.59999999999999998, 0.59999999999999998, 0.59999999999999998, 0.46250000000000002, 0.59999999999999998]\n",
      "\n",
      "---\n",
      " C: 6\n",
      "Concatenated Latent Gaussian Processes:\n",
      "(500, 400) (400, 400) 0 20 40 60 80 100 120 140 160 180 Result: (array([-1.]), array([80])) (array([-1.,  1.]), array([45, 35]))\n",
      "Concatenated Latent Gaussian Processes:\n",
      "(500, 400) (400, 400) 0 20 40 60 80 100 120 140 160 180 Result: (array([ 1.]), array([80])) (array([-1.,  1.]), array([47, 33]))\n",
      "Concatenated Latent Gaussian Processes:\n",
      "(500, 400) (400, 400) 0 20 40 60 80 100 120 140 160 180 Result: (array([-1.]), array([80])) (array([-1.,  1.]), array([49, 31]))\n",
      "Concatenated Latent Gaussian Processes:\n",
      "(500, 400) (400, 400) 0 20 40 60 80 100 120 140 160 180 Result: (array([-1.]), array([80])) (array([-1.,  1.]), array([47, 33]))\n",
      "Concatenated Latent Gaussian Processes:\n",
      "(500, 400) (400, 400) 0 20 40 60 80 100 120 140 160 180 Result: (array([-1.]), array([80])) (array([-1.,  1.]), array([46, 34]))\n",
      "[0.0, 0.5840707964601769, 0.0, 0.0, 0.0] \n",
      "[0.5625, 0.41249999999999998, 0.61250000000000004, 0.58750000000000002, 0.57499999999999996]\n",
      "\n",
      "---\n",
      " C: 7\n",
      "Concatenated Latent Gaussian Processes:\n",
      "(500, 400) (400, 400) 0 20 40 60 80 100 120 140 160 180 Result: (array([ 1.]), array([80])) (array([-1.,  1.]), array([48, 32]))\n",
      "Concatenated Latent Gaussian Processes:\n",
      "(500, 400) (400, 400) 0 20 40 60 80 100 120 140 160 180 Result: (array([-1.]), array([80])) (array([-1.,  1.]), array([58, 22]))\n",
      "Concatenated Latent Gaussian Processes:\n",
      "(500, 400) (400, 400) 0 20 40 60 80 100 120 140 160 180 Result: (array([-1.]), array([80])) (array([-1.,  1.]), array([38, 42]))\n",
      "Concatenated Latent Gaussian Processes:\n",
      "(500, 400) (400, 400) 0 20 40 60 80 100 120 140 160 180 Result: (array([-1.]), array([80])) (array([-1.,  1.]), array([42, 38]))\n",
      "Concatenated Latent Gaussian Processes:\n",
      "(500, 400) (400, 400) 0 20 40 60 80 100 120 140 160 180 Result: (array([-1.]), array([80])) (array([-1.,  1.]), array([48, 32]))\n",
      "[0.57142857142857151, 0.0, 0.0, 0.0, 0.0] \n",
      "[0.40000000000000002, 0.72499999999999998, 0.47499999999999998, 0.52500000000000002, 0.59999999999999998]\n",
      "\n",
      "---\n",
      " C: 8\n",
      "Concatenated Latent Gaussian Processes:\n",
      "(500, 400) (400, 400) 0 20 40 60 80 100 120 140 160 180 Result: (array([ 1.]), array([80])) (array([-1.,  1.]), array([47, 33]))\n",
      "Concatenated Latent Gaussian Processes:\n",
      "(500, 400) (400, 400) 0 20 40 60 80 100 120 140 160 180 Result: (array([-1.]), array([80])) (array([-1.,  1.]), array([41, 39]))\n",
      "Concatenated Latent Gaussian Processes:\n",
      "(500, 400) (400, 400) 0 20 40 60 80 100 120 140 160 180 Result: (array([ 1.]), array([80])) (array([-1.,  1.]), array([56, 24]))\n",
      "Concatenated Latent Gaussian Processes:\n",
      "(500, 400) (400, 400) 0 20 40 60 80 100 120 140 160 180 Result: (array([-1.]), array([80])) (array([-1.,  1.]), array([45, 35]))\n",
      "Concatenated Latent Gaussian Processes:\n",
      "(500, 400) (400, 400) 0 20 40 60 80 100 120 140 160 180 Result: (array([-1.]), array([80])) (array([-1.,  1.]), array([43, 37]))\n",
      "[0.5840707964601769, 0.0, 0.46153846153846151, 0.0, 0.0] \n",
      "[0.41249999999999998, 0.51249999999999996, 0.29999999999999999, 0.5625, 0.53749999999999998]\n",
      "\n",
      "---\n",
      " C: 9\n",
      "Concatenated Latent Gaussian Processes:\n",
      "(500, 400) (400, 400) 0 20 40 60 80 100 120 140 160 180 Result: (array([-1.]), array([80])) (array([-1.,  1.]), array([52, 28]))\n",
      "Concatenated Latent Gaussian Processes:\n",
      "(500, 400) (400, 400) 0 20 40 60 80 100 120 140 160 180 Result: (array([-1.]), array([80])) (array([-1.,  1.]), array([51, 29]))\n",
      "Concatenated Latent Gaussian Processes:\n",
      "(500, 400) (400, 400) 0 20 40 60 80 100 120 140 160 180 Result: (array([-1.]), array([80])) (array([-1.,  1.]), array([43, 37]))\n",
      "Concatenated Latent Gaussian Processes:\n",
      "(500, 400) (400, 400) 0 20 40 60 80 100 120 140 160 180 Result: (array([-1.]), array([80])) (array([-1.,  1.]), array([51, 29]))\n",
      "Concatenated Latent Gaussian Processes:\n",
      "(500, 400) (400, 400) 0 20 40 60 80 100 120 140 160 180 Result: (array([ 1.]), array([80])) (array([-1.,  1.]), array([43, 37]))\n",
      "[0.0, 0.0, 0.0, 0.0, 0.63247863247863256] \n",
      "[0.65000000000000002, 0.63749999999999996, 0.53749999999999998, 0.63749999999999996, 0.46250000000000002]\n"
     ]
    }
   ],
   "source": [
    "Cs = range(1,10)\n",
    "N = 100\n",
    "actualP = 3\n",
    "guessedP = 5\n",
    "S= 200\n",
    "\n",
    "ind = 0.8\n",
    "accuracies = {}\n",
    "f1Scores = {}\n",
    "for c in Cs:\n",
    "    f1=[]\n",
    "    accu=[]\n",
    "    print \"\\n---\\n C:\",c\n",
    "    W = np.random.rand(actualP*N)\n",
    "    phi = np.random.normal(loc=0,scale=1,size=(c,actualP))\n",
    "    for times in range(5):\n",
    "        #generate Latent Proceses:\n",
    "        latent = generatelatent(N=N)\n",
    "        #generate data\n",
    "        YBar,L = generateData(W,phi,latents=latent,C=c,N=N,P=actualP,S=S)\n",
    "        # create train test split\n",
    "        Y_train, Y_test, L_train, L_test = train_test_split(YBar, L, test_size=0.4, random_state=0)\n",
    "        # fit the model\n",
    "        myModel = LOM.LOM(Y=Y_train,L=L_train,N=N,C=c,S=L_train.shape[0])\n",
    "        myModel.fit(n=int(N*ind),iters=200,P=guessedP)\n",
    "        # predict for test\n",
    "        predictions,Expresults, _ = myModel.predict(Y_test)\n",
    "        # calcualte accuracy\n",
    "        print \"Result:\",np.unique(predictions,return_counts=True),np.unique(L_test,return_counts=True)\n",
    "        f1.append(metrics.f1_score(y_pred=predictions,y_true=L_test))\n",
    "        accu.append(metrics.accuracy_score(y_pred=predictions,y_true=L_test))\n",
    "    print f1,\"\\n\",accu\n",
    "    f1Scores[c] = np.mean(f1)\n",
    "    accuracies[c] = np.mean(accu)\n",
    "#plt.plot(induction,results)"
   ]
  },
  {
   "cell_type": "code",
   "execution_count": 51,
   "metadata": {
    "collapsed": false
   },
   "outputs": [
    {
     "name": "stdout",
     "output_type": "stream",
     "text": [
      "100 5 3 100\n",
      "\n",
      "-- (100, 300) (500, 300)\n",
      "(100, 500)\n"
     ]
    }
   ],
   "source": [
    "N = 100\n",
    "P = 3\n",
    "S = 100\n",
    "C = 5\n",
    "W = np.random.rand(actualP*N)\n",
    "phi = np.random.normal(loc=0,scale=1,size=(C,P))\n",
    "YBar,L = generateData(W,phi,latents=latent,C=C,N=N,P=P,S=S)\n",
    "Y_train, Y_test, L_train, L_test = train_test_split(YBar, L, test_size=0.4, random_state=0)"
   ]
  },
  {
   "cell_type": "code",
   "execution_count": 53,
   "metadata": {
    "collapsed": false
   },
   "outputs": [
    {
     "name": "stdout",
     "output_type": "stream",
     "text": [
      "Concatenated Latent Gaussian Processes:\n",
      "(400, 400) (400, 400) 0 20 40 60 80 100 120 140 160 180 Result: (array([-1.]), array([40])) (array([-1.,  1.]), array([29, 11]))\n"
     ]
    }
   ],
   "source": [
    "Y_train, Y_test, L_train, L_test = train_test_split(YBar, L, test_size=0.4, random_state=0)\n",
    "myModel = LOM.LOM(Y=Y_train,L=L_train,N=N,C=C,S=L_train.shape[0])\n",
    "myModel.fit(n=int(N*1),iters=200,P=4)\n",
    "predictions,Expresults, _ = myModel.predict(Y_test)\n",
    "print \"Result:\",np.unique(predictions,return_counts=True),np.unique(L_test,return_counts=True)"
   ]
  },
  {
   "cell_type": "code",
   "execution_count": 58,
   "metadata": {
    "collapsed": false
   },
   "outputs": [
    {
     "data": {
      "text/plain": [
       "0.5106382978723405"
      ]
     },
     "execution_count": 58,
     "metadata": {},
     "output_type": "execute_result"
    }
   ],
   "source": [
    "metrics.f1_score(y_pred=predictions,y_true=L_test)"
   ]
  },
  {
   "cell_type": "code",
   "execution_count": 57,
   "metadata": {
    "collapsed": false
   },
   "outputs": [
    {
     "name": "stdout",
     "output_type": "stream",
     "text": [
      "Concatenated Latent Gaussian Processes:\n",
      "(500, 500) (500, 500) 0 20 40 60 80 100 120 140 160 180 Result: (array([-1.,  1.]), array([ 6, 34])) (array([-1.,  1.]), array([27, 13]))\n"
     ]
    }
   ],
   "source": [
    "import pickle\n",
    "YBar = pickle.load(open(\"YBar.data\",\"rb\"))\n",
    "L = pickle.load(open(\"Labels.data\",\"rb\"))\n",
    "Y_train, Y_test, L_train, L_test = train_test_split(YBar, L, test_size=0.4, random_state=0)\n",
    "myModel = LOM.LOM(Y=Y_train,L=L_train,N=100,C=3,S=L_train.shape[0])\n",
    "myModel.fit(n=int(100*1),iters=200,P=5)\n",
    "predictions,Expresults, _ = myModel.predict(Y_test)\n",
    "print \"Result:\",np.unique(predictions,return_counts=True),np.unique(L_test,return_counts=True)"
   ]
  },
  {
   "cell_type": "code",
   "execution_count": 29,
   "metadata": {
    "collapsed": false
   },
   "outputs": [
    {
     "name": "stdout",
     "output_type": "stream",
     "text": [
      "Result: (array([ 1.]), array([80])) (array([-1.,  1.]), array([17, 23]))\n"
     ]
    }
   ],
   "source": [
    "redictions,Expresults, _ = myModel.predict(Y_test)\n",
    "print \"Result:\",np.unique(predictions,return_counts=True),np.unique(L_test,return_counts=True)"
   ]
  }
 ],
 "metadata": {
  "kernelspec": {
   "display_name": "Python 2",
   "language": "python",
   "name": "python2"
  },
  "language_info": {
   "codemirror_mode": {
    "name": "ipython",
    "version": 2
   },
   "file_extension": ".py",
   "mimetype": "text/x-python",
   "name": "python",
   "nbconvert_exporter": "python",
   "pygments_lexer": "ipython2",
   "version": "2.7.12"
  }
 },
 "nbformat": 4,
 "nbformat_minor": 0
}
