{
 "cells": [
  {
   "cell_type": "code",
   "execution_count": null,
   "metadata": {
    "collapsed": true
   },
   "outputs": [],
   "source": [
    "## data generator\n",
    "import GPy\n",
    "import numpy as np\n",
    "\n",
    "class DataGenerator:\n",
    "    def __init__(self,otherKernel = 'gaussian'):\n",
    "        self.kernels = self.generateKernels(otherKernel)\n",
    "    \n",
    "    def generateKernels(self,otherKernel):\n",
    "        kernels = []\n",
    "        kernels.append(GPy.kern.Linear(1,variances=3) + GPy.kern.ExpQuad(1,lengthscale=1,variance=2))\n",
    "        kernels.append(GPy.kern.Linear(1,variances=3) + GPy.kern.Brownian(1,variance=2))\n",
    "        if otherKernel == 'cyclic':\n",
    "            kernels.append(GPy.kern.Cosine(1,lengthscale=4,variance=2))\n",
    "        else:\n",
    "            kernels.append(GPy.kern.ExpQuad(1,lengthscale=1,variance=2))\n",
    "        kernels.append(GPy.kern.ExpQuad(1,lengthscale=1,variance=2))\n",
    "        return kernels\n",
    "    \n",
    "    def generatelatent(self,N,noiselevel=0.05):\n",
    "        def scaleIt(d):\n",
    "            return (d - d.min())/(d.max() - d.min())\n",
    "        \n",
    "        x = np.linspace(0,N-1,N)\n",
    "        u1 = np.random.multivariate_normal(mean=np.zeros(N).flatten(),cov=self.kernels[0].K(x.reshape(N,1))) + noiselevel* np.random.normal(0,1,N)\n",
    "        u2 = np.random.multivariate_normal(mean=np.zeros(N).flatten(),cov=self.kernels[1].K(x.reshape(N,1))) + noiselevel* np.random.normal(0,1,N)\n",
    "        g1 = np.random.multivariate_normal(mean=np.ones(N).flatten(),cov=self.kernels[2].K(x.reshape(N,1))) + noiselevel* np.random.normal(0,1,N)\n",
    "        g2 = np.random.multivariate_normal(mean=np.ones(N).flatten(),cov=self.kernels[3].K(x.reshape(N,1))) + noiselevel*np.random.normal(0,1,N)\n",
    "        return scaleIt(u1),scaleIt(u2),scaleIt(g1),scaleIt(g2)\n",
    "\n",
    "    \n",
    "    def generateData(self,phi,P=2,S=100,C=3,N=100):\n",
    "        #phi = np.random.normal(loc=0,scale=1,size=(C,P))\n",
    "        phiBar = np.matrix(np.kron(phi,np.eye(N)))\n",
    "        uBar = np.matrix(np.ones((S,N*P)))\n",
    "        L = np.zeros(S)\n",
    "        for s in range(S):\n",
    "            u1,u2,g1,g2 = self.generatelatent(N=N)\n",
    "            while u1[0] > u1[-1]: ## to make sure that we have only increasing/cyclic trend \n",
    "                u1,u2,g1,g2 = self.generatelatent(N=N)\n",
    "            if np.random.rand() < 0.4: #Include trend lines\n",
    "                uBar[s,:] = np.concatenate([u1,g1])\n",
    "                L[s] = 1\n",
    "            else:\n",
    "                uBar[s,:] = np.concatenate([g2,g1])\n",
    "                L[s] = -1\n",
    "        print S,C,P,N\n",
    "        YBar = uBar * phiBar.T + np.random.random()\n",
    "        return YBar,L,uBar"
   ]
  }
 ],
 "metadata": {
  "kernelspec": {
   "display_name": "Python 2",
   "language": "python",
   "name": "python2"
  },
  "language_info": {
   "codemirror_mode": {
    "name": "ipython",
    "version": 2
   },
   "file_extension": ".py",
   "mimetype": "text/x-python",
   "name": "python",
   "nbconvert_exporter": "python",
   "pygments_lexer": "ipython2",
   "version": "2.7.12"
  }
 },
 "nbformat": 4,
 "nbformat_minor": 1
}
