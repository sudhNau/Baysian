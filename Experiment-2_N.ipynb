{
 "cells": [
  {
   "cell_type": "code",
   "execution_count": 2,
   "metadata": {
    "collapsed": false
   },
   "outputs": [
    {
     "name": "stderr",
     "output_type": "stream",
     "text": [
      " /m/home/home8/81/nautiys1/unix/jupyter/venv/local/lib/python2.7/site-packages/sklearn/cross_validation.py:44: DeprecationWarning:This module was deprecated in version 0.18 in favor of the model_selection module into which all the refactored classes and functions are moved. Also note that the interface of the new CV iterators are different from that of this module. This module will be removed in 0.20.\n"
     ]
    }
   ],
   "source": [
    "import LCMGP\n",
    "from DataGenerator import DataGenerator\n",
    "from sklearn.cross_validation import train_test_split\n",
    "from sklearn import metrics\n",
    "import GPy\n",
    "import numpy as np\n",
    "from matplotlib import pyplot as plt\n",
    "%matplotlib inline"
   ]
  },
  {
   "cell_type": "markdown",
   "metadata": {},
   "source": [
    "## Steps:\n",
    "In this experiment we test the effect of number of samples in the output data on classification accuracy and other scores\n",
    "- Data used is from artifically generated data set \n",
    "- It has two latent features one upward slope and another can be gaussian and cyclic we only use gausssain here\n",
    "- Since clustering can be spurious we try to control for that by running each experiment 25 times and then report their averages and variances "
   ]
  },
  {
   "cell_type": "markdown",
   "metadata": {},
   "source": [
    "This is from synthetic control data set, Even though it has upward slope as well as increasing trend we firsttry to learn only increasing trend\n",
    "\n",
    "        "
   ]
  },
  {
   "cell_type": "markdown",
   "metadata": {},
   "source": [
    "### testing Infra:\n",
    "\n",
    "## Testing the effect of number of samples on classification accuracy"
   ]
  },
  {
   "cell_type": "markdown",
   "metadata": {
    "collapsed": true
   },
   "source": [
    "### 1. IN this data, C=3; P=2"
   ]
  },
  {
   "cell_type": "code",
   "execution_count": null,
   "metadata": {
    "collapsed": false
   },
   "outputs": [
    {
     "name": "stdout",
     "output_type": "stream",
     "text": [
      "\n",
      "---\n",
      " N: 20\n",
      "0 200 3 2 20\n",
      "Model initialized with  0.6 induction ratio\n",
      "150 updates\n",
      "1 200 3 2 20\n",
      "Model initialized with  0.6 induction ratio\n",
      "150 updates\n",
      "2 200 3 2 20\n",
      "Model initialized with  0.6 induction ratio\n",
      "150 updates\n",
      "3 200 3 2 20\n",
      "Model initialized with  0.6 induction ratio\n",
      "150 updates\n",
      "4 200 3 2 20\n",
      "Model initialized with  0.6 induction ratio\n",
      "150 updates\n",
      "5 200 3 2 20\n",
      "Model initialized with  0.6 induction ratio\n",
      "150 updates\n",
      "6 200 3 2 20\n",
      "Model initialized with  0.6 induction ratio\n",
      "150 updates\n",
      "7 200 3 2 20\n",
      "Model initialized with  0.6 induction ratio\n",
      "150 updates\n",
      "8 200 3 2 20\n",
      "Model initialized with  0.6 induction ratio\n",
      "150 updates\n",
      "9 200 3 2 20\n",
      "Model initialized with  0.6 induction ratio\n",
      "150 updates\n"
     ]
    },
    {
     "name": "stderr",
     "output_type": "stream",
     "text": [
      " /m/home/home8/81/nautiys1/unix/jupyter/venv/local/lib/python2.7/site-packages/sklearn/metrics/classification.py:1113: UndefinedMetricWarning:F-score is ill-defined and being set to 0.0 due to no predicted samples.\n"
     ]
    },
    {
     "name": "stdout",
     "output_type": "stream",
     "text": [
      "10 200 3 2 20\n",
      "Model initialized with  0.6 induction ratio\n",
      "150 updates\n",
      "11 200 3 2 20\n",
      "Model initialized with  0.6 induction ratio\n",
      "150 updates\n",
      "12 200 3 2 20\n",
      "Model initialized with  0.6 induction ratio\n",
      "150 updates\n",
      "13 200 3 2 20\n",
      "Model initialized with  0.6 induction ratio\n",
      "150 updates\n",
      "14 200 3 2 20\n",
      "Model initialized with  0.6 induction ratio\n",
      "150 updates\n",
      "15 200 3 2 20\n",
      "Model initialized with  0.6 induction ratio\n",
      "150 updates\n",
      "16 200 3 2 20\n",
      "Model initialized with  0.6 induction ratio\n",
      "150 updates\n",
      "17 200 3 2 20\n",
      "Model initialized with  0.6 induction ratio\n",
      "150 updates\n",
      "18 200 3 2 20\n",
      "Model initialized with  0.6 induction ratio\n",
      "150 updates\n",
      "19 200 3 2 20\n",
      "Model initialized with  0.6 induction ratio\n",
      "150 updates\n",
      "\n",
      "---\n",
      " N: 50\n",
      "0 200 3 2 50\n",
      "Model initialized with  0.6 induction ratio\n",
      "150 updates\n",
      "1 200 3 2 50\n",
      "Model initialized with  0.6 induction ratio\n",
      "150 updates\n",
      "2 200 3 2 50\n",
      "Model initialized with  0.6 induction ratio\n",
      "150 updates\n",
      "3 200 3 2 50\n",
      "Model initialized with  0.6 induction ratio\n",
      "150 updates\n",
      "4 200 3 2 50\n",
      "Model initialized with  0.6 induction ratio\n",
      "150 updates\n",
      "5 200 3 2 50\n",
      "Model initialized with  0.6 induction ratio\n",
      "150 updates\n",
      "6 200 3 2 50\n",
      "Model initialized with  0.6 induction ratio\n",
      "150 updates\n",
      "7 200 3 2 50\n",
      "Model initialized with  0.6 induction ratio\n",
      "150 updates\n",
      "8 200 3 2 50\n",
      "Model initialized with  0.6 induction ratio\n",
      "150 updates\n",
      "9 200 3 2 50\n",
      "Model initialized with  0.6 induction ratio\n",
      "150 updates\n",
      "10 200 3 2 50\n",
      "Model initialized with  0.6 induction ratio\n",
      "150 updates\n",
      "11 200 3 2 50\n",
      "Model initialized with  0.6 induction ratio\n",
      "150 updates\n",
      "12 200 3 2 50\n",
      "Model initialized with  0.6 induction ratio\n",
      "150 updates\n",
      "13 200 3 2 50\n",
      "Model initialized with  0.6 induction ratio\n",
      "150 updates\n",
      "14 200 3 2 50\n",
      "Model initialized with  0.6 induction ratio\n",
      "150 updates\n",
      "15 200 3 2 50\n",
      "Model initialized with  0.6 induction ratio\n",
      "150 updates\n",
      "16 200 3 2 50\n",
      "Model initialized with  0.6 induction ratio\n",
      "150 updates\n",
      "17 200 3 2 50\n",
      "Model initialized with  0.6 induction ratio\n",
      "150 updates\n",
      "18 200 3 2 50\n",
      "Model initialized with  0.6 induction ratio\n",
      "150 updates\n",
      "19 200 3 2 50\n",
      "Model initialized with  0.6 induction ratio\n",
      "150 updates\n",
      "\n",
      "---\n",
      " N: 80\n",
      "0 200 3 2 80\n",
      "Model initialized with  0.6 induction ratio\n",
      "150 updates\n",
      "1 200 3 2 80\n",
      "Model initialized with  0.6 induction ratio\n",
      "150 updates\n",
      "2 200 3 2 80\n",
      "Model initialized with  0.6 induction ratio\n",
      "150 updates\n",
      "3 200 3 2 80\n",
      "Model initialized with  0.6 induction ratio\n",
      "150 updates\n",
      "4 200 3 2 80\n",
      "Model initialized with  0.6 induction ratio\n",
      "150 updates\n",
      "5 200 3 2 80\n",
      "Model initialized with  0.6 induction ratio\n",
      "150 updates\n",
      "6 200 3 2 80\n",
      "Model initialized with  0.6 induction ratio\n",
      "150 updates\n",
      "7 200 3 2 80\n",
      "Model initialized with  0.6 induction ratio\n",
      "150 updates\n",
      "8 200 3 2 80\n",
      "Model initialized with  0.6 induction ratio\n",
      "150 updates\n",
      "9 200 3 2 80\n",
      "Model initialized with  0.6 induction ratio\n",
      "150 updates\n",
      "10 200 3 2 80\n",
      "Model initialized with  0.6 induction ratio\n",
      "150 updates\n",
      "11 200 3 2 80\n",
      "Model initialized with  0.6 induction ratio\n",
      "150 updates\n",
      "12 200 3 2 80\n",
      "Model initialized with  0.6 induction ratio\n",
      "150 updates\n",
      "13 200 3 2 80\n",
      "Model initialized with  0.6 induction ratio\n",
      "150 updates\n",
      "14 200 3 2 80\n",
      "Model initialized with  0.6 induction ratio\n",
      "150 updates\n",
      "15 200 3 2 80\n",
      "Model initialized with  0.6 induction ratio\n",
      "150 updates\n",
      "16 200 3 2 80\n",
      "Model initialized with  0.6 induction ratio\n",
      "150 updates\n",
      "17 200 3 2 80\n",
      "Model initialized with  0.6 induction ratio\n",
      "150 updates\n",
      "18 200 3 2 80\n",
      "Model initialized with  0.6 induction ratio\n",
      "150 updates\n",
      "19 200 3 2 80\n",
      "Model initialized with  0.6 induction ratio\n",
      "150 updates\n",
      "\n",
      "---\n",
      " N: 150\n",
      "0 200 3 2 150\n",
      "Model initialized with  0.6 induction ratio\n",
      "150 updates\n",
      "1 200 3 2 150\n",
      "Model initialized with  0.6 induction ratio\n",
      "150 updates\n",
      "2 200 3 2 150\n",
      "Model initialized with  0.6 induction ratio\n",
      "150 updates\n",
      "3 200 3 2 150\n",
      "Model initialized with  0.6 induction ratio\n",
      "150 updates\n",
      "4 200 3 2 150\n",
      "Model initialized with  0.6 induction ratio\n",
      "150 updates\n",
      "5 200 3 2 150\n",
      "Model initialized with  0.6 induction ratio\n",
      "150 updates\n",
      "6 200 3 2 150\n",
      "Model initialized with  0.6 induction ratio\n",
      "150 updates\n",
      "7 200 3 2 150\n",
      "Model initialized with  0.6 induction ratio\n",
      "150 updates\n",
      "8 200 3 2 150\n",
      "Model initialized with  0.6 induction ratio\n",
      "150 updates\n",
      "9 200 3 2 150\n",
      "Model initialized with  0.6 induction ratio\n",
      "150 updates\n",
      "10 200 3 2 150\n",
      "Model initialized with  0.6 induction ratio\n",
      "150 updates\n",
      "11 200 3 2 150\n",
      "Model initialized with  0.6 induction ratio\n",
      "150 updates\n",
      "12"
     ]
    }
   ],
   "source": [
    "Ns = [20,50,80,150,300,600,1000]\n",
    "#Ns = [20,50,80]\n",
    "accuracies = {}\n",
    "f1Scores = {}\n",
    "f1ScoresV = {}\n",
    "accuraciesV = {}\n",
    "TRreconstruction ={}\n",
    "TTreconstruction ={}\n",
    "TRreconstructionV ={}\n",
    "TTreconstructionV ={}\n",
    "faultyModel = {}\n",
    "C =3\n",
    "S = 200\n",
    "P =2\n",
    "ind = 0.6\n",
    "# We also fix phi\n",
    "dtgen = DataGenerator()\n",
    "for N in Ns:\n",
    "    f1=[]\n",
    "    accu=[]\n",
    "    recTr = []\n",
    "    recTt = []\n",
    "    print \"\\n---\\n N:\",N\n",
    "    for times in range(20):\n",
    "        print times,\n",
    "        #generate data\n",
    "        phi = np.random.normal(loc=0,scale=1,size=(C,P))\n",
    "        Y,L,uBar = dtgen.generateData(phi,S=S,C=C,N=N)\n",
    "        # create train test split\n",
    "        Y_train, Y_test, L_train, L_test = train_test_split(Y, L, test_size=0.4, random_state=0)\n",
    "        # fit the model\n",
    "        lcgm = LCMGP.LCMGP()\n",
    "        lcgm.fit(Y=Y_train,L=L_train,N=N,induction=ind,iterations=150)\n",
    "        # predict for test\n",
    "        predictions,Expresults, ux = lcgm.predict(Y_test)\n",
    "        # calcualte reconstruction error for training\n",
    "        predictionst,Expresultst, utx = lcgm.predict(Y_train)\n",
    "        recTr.append(reconstructionError(YBar=Y_train,phiHatExpBar=lcgm.phiHatExpBar,uExpBar=utx))\n",
    "        # calcualte reconstruction error for testing\n",
    "        recTt.append(reconstructionError(YBar=Y_test,phiHatExpBar=lcgm.phiHatExpBar,uExpBar=ux))\n",
    "        #print \"Result:\",np.unique(predictions,return_counts=True),np.unique(L_test,return_counts=True)\n",
    "        f1s = metrics.f1_score(y_pred=predictions,y_true=L_test)\n",
    "        f1.append(f1s)\n",
    "        if f1s < 0.30:\n",
    "            faultyModel[ind] = lcgm\n",
    "        accu.append(metrics.accuracy_score(y_pred=predictions,y_true=L_test))\n",
    "        \n",
    "    #print f1,\"\\n\",accu,f1,recTr\n",
    "    f1Scores[N] = np.mean(f1)\n",
    "    accuracies[N] = np.mean(accu)\n",
    "    f1ScoresV[N] = np.std(f1)\n",
    "    accuraciesV[N] = np.std(accu)\n",
    "    TRreconstruction[N] = np.mean(recTr)\n",
    "    TTreconstruction[N] =np.mean(recTt)\n",
    "    TRreconstructionV[N] = np.std(recTr)\n",
    "    TTreconstructionV[N] =np.std(recTt)\n",
    "#plt.plot(induction,results)"
   ]
  },
  {
   "cell_type": "code",
   "execution_count": 6,
   "metadata": {
    "collapsed": false
   },
   "outputs": [],
   "source": [
    "%matplotlib inline\n",
    "import numpy as np\n",
    "def reconstructionError(YBar,uExpBar,phiHatExpBar):\n",
    "    totalError = 0\n",
    "    for s in range(YBar.shape[0]):\n",
    "        totalError += np.sum(np.abs(YBar[s] - uExpBar[s]*phiHatExpBar.T))\n",
    "    return totalError/YBar.shape[0]"
   ]
  },
  {
   "cell_type": "markdown",
   "metadata": {},
   "source": [
    "## F1 Scores with respect to inducing point ratio"
   ]
  },
  {
   "cell_type": "code",
   "execution_count": 10,
   "metadata": {
    "collapsed": false
   },
   "outputs": [
    {
     "data": {
      "text/plain": [
       "<Container object of 3 artists>"
      ]
     },
     "execution_count": 10,
     "metadata": {},
     "output_type": "execute_result"
    },
    {
     "data": {
      "image/png": "[encoded data removed]",
      "text/plain": [
       "<matplotlib.figure.Figure at 0x7fbb47c6a150>"
      ]
     },
     "metadata": {},
     "output_type": "display_data"
    }
   ],
   "source": [
    "import pandas as pd\n",
    "d=[]\n",
    "for k,v in f1Scores.items():\n",
    "    d.append((k,np.round(v,2),np.round(f1ScoresV[k],3)))\n",
    "d = sorted(d, key=lambda x: x[0])  \n",
    "d = pd.DataFrame(d,columns = ['ind','m','v'])\n",
    "plt.errorbar(d['ind'],d['m'],d['v'])\n",
    "#plt.xlim(0.15,0.85)"
   ]
  },
  {
   "cell_type": "markdown",
   "metadata": {},
   "source": [
    "## Accuracies with respect to inducing point ratio"
   ]
  },
  {
   "cell_type": "code",
   "execution_count": 11,
   "metadata": {
    "collapsed": false
   },
   "outputs": [
    {
     "data": {
      "text/plain": [
       "<Container object of 3 artists>"
      ]
     },
     "execution_count": 11,
     "metadata": {},
     "output_type": "execute_result"
    },
    {
     "data": {
      "image/png": "[encoded data removed]",
      "text/plain": [
       "<matplotlib.figure.Figure at 0x7fbb47b7cd50>"
      ]
     },
     "metadata": {},
     "output_type": "display_data"
    }
   ],
   "source": [
    "d=[]\n",
    "for k,v in accuracies.items():\n",
    "    d.append((k,np.round(v,2),np.round(accuraciesV[k],3)))\n",
    "d = sorted(d, key=lambda x: x[0])  \n",
    "d = pd.DataFrame(d,columns = ['ind','m','v'])\n",
    "plt.errorbar(d['ind'],d['m'],d['v'])\n",
    "#plt.xlim(0.15,0.85)"
   ]
  },
  {
   "cell_type": "markdown",
   "metadata": {},
   "source": [
    "## Reconstruction errors, test and training"
   ]
  },
  {
   "cell_type": "code",
   "execution_count": 12,
   "metadata": {
    "collapsed": false
   },
   "outputs": [
    {
     "data": {
      "text/plain": [
       "<matplotlib.collections.PathCollection at 0x7fbb4c9ffdd0>"
      ]
     },
     "execution_count": 12,
     "metadata": {},
     "output_type": "execute_result"
    },
    {
     "data": {
      "image/png": "[encoded data removed]",
      "text/plain": [
       "<matplotlib.figure.Figure at 0x7fbb479b1b10>"
      ]
     },
     "metadata": {},
     "output_type": "display_data"
    }
   ],
   "source": [
    "plt.scatter(TTreconstruction.keys(),TTreconstruction.values(),color='red',alpha=0.4)\n",
    "plt.scatter(TRreconstruction.keys(),TRreconstruction.values(),color='blue',alpha=0.4)"
   ]
  },
  {
   "cell_type": "markdown",
   "metadata": {},
   "source": [
    "Interesting thing is that even 50% of samples are enough to classify things properly."
   ]
  }
 ],
 "metadata": {
  "anaconda-cloud": {},
  "kernelspec": {
   "display_name": "Python 2",
   "language": "python",
   "name": "python2"
  },
  "language_info": {
   "codemirror_mode": {
    "name": "ipython",
    "version": 2
   },
   "file_extension": ".py",
   "mimetype": "text/x-python",
   "name": "python",
   "nbconvert_exporter": "python",
   "pygments_lexer": "ipython2",
   "version": "2.7.12"
  }
 },
 "nbformat": 4,
 "nbformat_minor": 0
}
